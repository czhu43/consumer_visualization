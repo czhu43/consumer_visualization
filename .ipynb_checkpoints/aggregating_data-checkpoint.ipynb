{
 "cells": [
  {
   "cell_type": "code",
   "execution_count": 6,
   "metadata": {},
   "outputs": [],
   "source": [
    "import pandas as pd\n",
    "import numpy as np"
   ]
  },
  {
   "cell_type": "code",
   "execution_count": 9,
   "metadata": {},
   "outputs": [],
   "source": [
    "file_names = np.array(['data/age.xlsx', 'data/cusize.xlsx', 'data/cucomp.xlsx', \n",
    "                       'data/income.xlsx', 'data/race.xlsx', 'data/earners.xlsx'])"
   ]
  },
  {
   "cell_type": "code",
   "execution_count": 11,
   "metadata": {},
   "outputs": [],
   "source": [
    "age = pd.read_excel(file_names.item(0))\n",
    "income = pd.read_excel(file_names.item(3))\n",
    "race = pd.read_excel(file_names.item(4))\n",
    "earners = pd.read_excel(file_names.item(5))"
   ]
  },
  {
   "cell_type": "code",
   "execution_count": 14,
   "metadata": {},
   "outputs": [
    {
     "data": {
      "text/html": [
       "<div>\n",
       "<style scoped>\n",
       "    .dataframe tbody tr th:only-of-type {\n",
       "        vertical-align: middle;\n",
       "    }\n",
       "\n",
       "    .dataframe tbody tr th {\n",
       "        vertical-align: top;\n",
       "    }\n",
       "\n",
       "    .dataframe thead th {\n",
       "        text-align: right;\n",
       "    }\n",
       "</style>\n",
       "<table border=\"1\" class=\"dataframe\">\n",
       "  <thead>\n",
       "    <tr style=\"text-align: right;\">\n",
       "      <th></th>\n",
       "      <th>Table 1600. Number of earners in consumer unit: Shares of annual aggregate expenditures and sources of income, Consumer Expenditure Survey, 2017</th>\n",
       "      <th>Unnamed: 1</th>\n",
       "      <th>Unnamed: 2</th>\n",
       "      <th>Unnamed: 3</th>\n",
       "      <th>Unnamed: 4</th>\n",
       "      <th>Unnamed: 5</th>\n",
       "      <th>Unnamed: 6</th>\n",
       "      <th>Unnamed: 7</th>\n",
       "    </tr>\n",
       "  </thead>\n",
       "  <tbody>\n",
       "    <tr>\n",
       "      <th>0</th>\n",
       "      <td>(Aggregates in millions of dollars, unless oth...</td>\n",
       "      <td>NaN</td>\n",
       "      <td>NaN</td>\n",
       "      <td>NaN</td>\n",
       "      <td>NaN</td>\n",
       "      <td>NaN</td>\n",
       "      <td>NaN</td>\n",
       "      <td>NaN</td>\n",
       "    </tr>\n",
       "    <tr>\n",
       "      <th>1</th>\n",
       "      <td>NaN</td>\n",
       "      <td>NaN</td>\n",
       "      <td>NaN</td>\n",
       "      <td>NaN</td>\n",
       "      <td>NaN</td>\n",
       "      <td>NaN</td>\n",
       "      <td>NaN</td>\n",
       "      <td>NaN</td>\n",
       "    </tr>\n",
       "    <tr>\n",
       "      <th>2</th>\n",
       "      <td>Item</td>\n",
       "      <td>Aggregate</td>\n",
       "      <td>Single consumers</td>\n",
       "      <td>NaN</td>\n",
       "      <td>Consumer units of two or more people</td>\n",
       "      <td>NaN</td>\n",
       "      <td>NaN</td>\n",
       "      <td>NaN</td>\n",
       "    </tr>\n",
       "    <tr>\n",
       "      <th>3</th>\n",
       "      <td>NaN</td>\n",
       "      <td>NaN</td>\n",
       "      <td>No earner</td>\n",
       "      <td>One earner</td>\n",
       "      <td>No earner</td>\n",
       "      <td>One earner</td>\n",
       "      <td>Two earners</td>\n",
       "      <td>Three or\\nmore\\nearners</td>\n",
       "    </tr>\n",
       "    <tr>\n",
       "      <th>4</th>\n",
       "      <td>Number of consumer units (in thousands)</td>\n",
       "      <td>130001</td>\n",
       "      <td>16431</td>\n",
       "      <td>20934</td>\n",
       "      <td>13140</td>\n",
       "      <td>25885</td>\n",
       "      <td>42221</td>\n",
       "      <td>11390</td>\n",
       "    </tr>\n",
       "  </tbody>\n",
       "</table>\n",
       "</div>"
      ],
      "text/plain": [
       "  Table 1600. Number of earners in consumer unit: Shares of annual aggregate expenditures and sources of income, Consumer Expenditure Survey, 2017  \\\n",
       "0  (Aggregates in millions of dollars, unless oth...                                                                                                 \n",
       "1                                                NaN                                                                                                 \n",
       "2                                               Item                                                                                                 \n",
       "3                                                NaN                                                                                                 \n",
       "4            Number of consumer units (in thousands)                                                                                                 \n",
       "\n",
       "  Unnamed: 1        Unnamed: 2  Unnamed: 3  \\\n",
       "0        NaN               NaN         NaN   \n",
       "1        NaN               NaN         NaN   \n",
       "2  Aggregate  Single consumers         NaN   \n",
       "3        NaN         No earner  One earner   \n",
       "4     130001             16431       20934   \n",
       "\n",
       "                             Unnamed: 4  Unnamed: 5   Unnamed: 6  \\\n",
       "0                                   NaN         NaN          NaN   \n",
       "1                                   NaN         NaN          NaN   \n",
       "2  Consumer units of two or more people         NaN          NaN   \n",
       "3                             No earner  One earner  Two earners   \n",
       "4                                 13140       25885        42221   \n",
       "\n",
       "                Unnamed: 7  \n",
       "0                      NaN  \n",
       "1                      NaN  \n",
       "2                      NaN  \n",
       "3  Three or\\nmore\\nearners  \n",
       "4                    11390  "
      ]
     },
     "execution_count": 14,
     "metadata": {},
     "output_type": "execute_result"
    }
   ],
   "source": [
    "earners.head()"
   ]
  },
  {
   "cell_type": "code",
   "execution_count": null,
   "metadata": {},
   "outputs": [],
   "source": []
  },
  {
   "cell_type": "code",
   "execution_count": null,
   "metadata": {},
   "outputs": [],
   "source": []
  }
 ],
 "metadata": {
  "kernelspec": {
   "display_name": "Python 3",
   "language": "python",
   "name": "python3"
  },
  "language_info": {
   "codemirror_mode": {
    "name": "ipython",
    "version": 3
   },
   "file_extension": ".py",
   "mimetype": "text/x-python",
   "name": "python",
   "nbconvert_exporter": "python",
   "pygments_lexer": "ipython3",
   "version": "3.7.1"
  }
 },
 "nbformat": 4,
 "nbformat_minor": 2
}
